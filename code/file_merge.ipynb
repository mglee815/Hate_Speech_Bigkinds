{
 "cells": [
  {
   "cell_type": "code",
   "execution_count": 11,
   "metadata": {},
   "outputs": [
    {
     "name": "stdout",
     "output_type": "stream",
     "text": [
      "../data/HS_20170101-20190331.xlsx\n",
      "../data/HS_20010101-20121231.xlsx\n",
      "../data/HS_20130101-20161231.xlsx\n",
      "../data/HS_19900101-20001231.xlsx\n",
      "../data/HS_20190401-20201231.xlsx\n",
      "../data/HS_20210101-20220616.xlsx\n"
     ]
    }
   ],
   "source": [
    "import pandas as pd\n",
    "import numpy as np  \n",
    "import glob  \n",
    "import sys\n",
    "import warnings\n",
    "import os\n",
    "import time\n",
    "\n",
    "DATA_PATH = \"../data/\"\n",
    "\n",
    "start = time.time()\n",
    "all_data = pd.DataFrame() \n",
    "for f in glob.glob(f'{DATA_PATH}*.xlsx'):\n",
    "    print(f)\n",
    "    with warnings.catch_warnings(record=True):\n",
    "        warnings.simplefilter(\"always\")\n",
    "        df = pd.read_excel(f, engine = \"openpyxl\")\n",
    "        all_data = all_data.append(df, ignore_index=True)\n",
    "\n",
    "#파일저장  \n",
    "all_data.to_pickle(f\"{DATA_PATH}Hate_Speech_merged.pkl\")\n"
   ]
  },
  {
   "cell_type": "code",
   "execution_count": 3,
   "metadata": {},
   "outputs": [],
   "source": [
    "import pandas as pd\n",
    "DATA_PATH = \"../data/\"\n",
    "all_data = pd.read_pickle(f\"{DATA_PATH}Hate_Speech_merged.pkl\")"
   ]
  },
  {
   "cell_type": "code",
   "execution_count": 5,
   "metadata": {},
   "outputs": [],
   "source": [
    "all_data.to_csv(f\"{DATA_PATH}Hate_Speech_merged.xlsx\")"
   ]
  },
  {
   "cell_type": "code",
   "execution_count": 9,
   "metadata": {},
   "outputs": [],
   "source": [
    "major = ['KBS', 'MBC', 'SBS', 'YTN', '국민일보', '동아일보', '매일경제', '조선일보', '중앙일보', '한겨레', '한국경제', '한국일보']"
   ]
  }
 ],
 "metadata": {
  "interpreter": {
   "hash": "c6f34507fa43ba317958b721fa8398d2051b96ef3f3b32ff98429c26ce06f8cf"
  },
  "kernelspec": {
   "display_name": "Python 3 (ipykernel)",
   "language": "python",
   "name": "python3"
  },
  "language_info": {
   "codemirror_mode": {
    "name": "ipython",
    "version": 3
   },
   "file_extension": ".py",
   "mimetype": "text/x-python",
   "name": "python",
   "nbconvert_exporter": "python",
   "pygments_lexer": "ipython3",
   "version": "3.8.12"
  }
 },
 "nbformat": 4,
 "nbformat_minor": 4
}
